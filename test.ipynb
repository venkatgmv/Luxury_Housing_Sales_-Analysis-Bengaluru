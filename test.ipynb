{
 "cells": [
  {
   "cell_type": "code",
   "execution_count": 1,
   "id": "2d4b9f89",
   "metadata": {},
   "outputs": [
    {
     "name": "stdout",
     "output_type": "stream",
     "text": [
      "hello world\n"
     ]
    }
   ],
   "source": [
    "print(\"hello world\")"
   ]
  },
  {
   "cell_type": "code",
   "execution_count": 2,
   "id": "85599a3d",
   "metadata": {},
   "outputs": [
    {
     "name": "stderr",
     "output_type": "stream",
     "text": [
      "<>:9: SyntaxWarning: invalid escape sequence '\\G'\n",
      "<>:9: SyntaxWarning: invalid escape sequence '\\G'\n",
      "C:\\Users\\VENKATARAMAN\\AppData\\Local\\Temp\\ipykernel_12876\\1240877807.py:9: SyntaxWarning: invalid escape sequence '\\G'\n",
      "  df = pd.read_csv(\"D:\\Guvi_projects\\Luxury_house\\Luxury_Housing_Bangalore.csv\")\n"
     ]
    },
    {
     "name": "stdout",
     "output_type": "stream",
     "text": [
      "Original Shape: (101000, 18)\n"
     ]
    },
    {
     "ename": "KeyError",
     "evalue": "['price']",
     "output_type": "error",
     "traceback": [
      "\u001b[31m---------------------------------------------------------------------------\u001b[39m",
      "\u001b[31mKeyError\u001b[39m                                  Traceback (most recent call last)",
      "\u001b[32m~\\AppData\\Local\\Temp\\ipykernel_12876\\1240877807.py\u001b[39m in \u001b[36m?\u001b[39m\u001b[34m()\u001b[39m\n\u001b[32m     13\u001b[39m \u001b[38;5;66;03m# Remove duplicates\u001b[39;00m\n\u001b[32m     14\u001b[39m df = df.drop_duplicates()\n\u001b[32m     15\u001b[39m \n\u001b[32m     16\u001b[39m \u001b[38;5;66;03m# Handle missing values\u001b[39;00m\n\u001b[32m---> \u001b[39m\u001b[32m17\u001b[39m df = df.dropna(subset=[\u001b[33m\"price\"\u001b[39m])  \u001b[38;5;66;03m# Drop rows where price is missing\u001b[39;00m\n\u001b[32m     18\u001b[39m df[\u001b[33m\"location\"\u001b[39m] = df[\u001b[33m\"location\"\u001b[39m].fillna(\u001b[33m\"Unknown\"\u001b[39m)  \u001b[38;5;66;03m# Fill missing locations\u001b[39;00m\n\u001b[32m     19\u001b[39m df[\u001b[33m\"size\"\u001b[39m] = df[\u001b[33m\"size\"\u001b[39m].fillna(df[\u001b[33m\"size\"\u001b[39m].mode()[\u001b[32m0\u001b[39m])  \u001b[38;5;66;03m# Fill with most common size\u001b[39;00m\n\u001b[32m     20\u001b[39m \n",
      "\u001b[32md:\\Guvi_projects\\Luxury_house\\.venv\\Lib\\site-packages\\pandas\\core\\frame.py\u001b[39m in \u001b[36m?\u001b[39m\u001b[34m(self, axis, how, thresh, subset, inplace, ignore_index)\u001b[39m\n\u001b[32m   6673\u001b[39m             ax = self._get_axis(agg_axis)\n\u001b[32m   6674\u001b[39m             indices = ax.get_indexer_for(subset)\n\u001b[32m   6675\u001b[39m             check = indices == -\u001b[32m1\u001b[39m\n\u001b[32m   6676\u001b[39m             \u001b[38;5;28;01mif\u001b[39;00m check.any():\n\u001b[32m-> \u001b[39m\u001b[32m6677\u001b[39m                 \u001b[38;5;28;01mraise\u001b[39;00m KeyError(np.array(subset)[check].tolist())\n\u001b[32m   6678\u001b[39m             agg_obj = self.take(indices, axis=agg_axis)\n\u001b[32m   6679\u001b[39m \n\u001b[32m   6680\u001b[39m         \u001b[38;5;28;01mif\u001b[39;00m thresh \u001b[38;5;28;01mis\u001b[39;00m \u001b[38;5;28;01mnot\u001b[39;00m lib.no_default:\n",
      "\u001b[31mKeyError\u001b[39m: ['price']"
     ]
    }
   ],
   "source": [
    "import pandas as pd\n",
    "import numpy as np\n",
    "from sqlalchemy import create_engine, text\n",
    "\n",
    "# -------------------------------\n",
    "# 1. Data Cleaning\n",
    "# -------------------------------\n",
    "# Load CSV\n",
    "df = pd.read_csv(\"D:\\Guvi_projects\\Luxury_house\\Luxury_Housing_Bangalore.csv\")\n",
    "\n",
    "print(\"Original Shape:\", df.shape)\n",
    "\n",
    "# Remove duplicates\n",
    "df = df.drop_duplicates()\n",
    "\n",
    "# Handle missing values\n",
    "df = df.dropna(subset=[\"price\"])  # Drop rows where price is missing\n",
    "df[\"location\"] = df[\"location\"].fillna(\"Unknown\")  # Fill missing locations\n",
    "df[\"size\"] = df[\"size\"].fillna(df[\"size\"].mode()[0])  # Fill with most common size\n",
    "\n",
    "# Fix data types\n",
    "if \"price\" in df.columns:\n",
    "    df[\"price\"] = pd.to_numeric(df[\"price\"], errors=\"coerce\")\n",
    "\n",
    "if \"bath\" in df.columns:\n",
    "    df[\"bath\"] = pd.to_numeric(df[\"bath\"], errors=\"coerce\")\n",
    "\n",
    "# Replace invalid/negative values\n",
    "num_cols = [\"price\", \"bath\"]\n",
    "for col in num_cols:\n",
    "    df[col] = np.where(df[col] < 0, np.nan, df[col])\n",
    "    df[col] = df[col].fillna(df[col].median())\n",
    "\n",
    "print(\"\\n✅ After Cleaning Shape:\", df.shape)\n",
    "\n",
    "# -------------------------------\n",
    "# 2. Data Preprocessing & Transformation\n",
    "# -------------------------------\n",
    "# Feature Engineering: Extract number of bedrooms from \"size\" column if it exists\n",
    "if \"size\" in df.columns:\n",
    "    df[\"bhk\"] = df[\"size\"].str.extract(r\"(\\d+)\").astype(float)\n",
    "\n",
    "# Normalize/scale prices (log transform to handle skewness)\n",
    "df[\"price_log\"] = np.log1p(df[\"price\"])\n",
    "\n",
    "# Example transformation: categorize price ranges\n",
    "df[\"price_category\"] = pd.cut(\n",
    "    df[\"price\"],\n",
    "    bins=[0, 50, 100, 200, np.inf],\n",
    "    labels=[\"Budget\", \"Mid-range\", \"Premium\", \"Luxury\"]\n",
    ")\n",
    "\n",
    "print(\"\\n✅ Preprocessing Done\")\n",
    "print(df.head())\n",
    "\n",
    "# -------------------------------\n",
    "# 3. SQL Data Warehousing & Querying\n",
    "# -------------------------------\n",
    "# Create SQLAlchemy engine\n",
    "engine = create_engine(\"sqlite:///luxury_housing_cleaned.db\")\n",
    "\n",
    "# Store cleaned + transformed data\n",
    "df.to_sql(\"luxury_housing\", con=engine, if_exists=\"replace\", index=False)\n",
    "\n",
    "# Example SQL Queries\n",
    "with engine.connect() as conn:\n",
    "    # Top 5 most expensive houses\n",
    "    result = conn.execute(text(\"\"\"\n",
    "        SELECT location, price \n",
    "        FROM luxury_housing \n",
    "        ORDER BY price DESC \n",
    "        LIMIT 5\n",
    "    \"\"\")).fetchall()\n",
    "    print(\"\\n🏠 Top 5 Most Expensive Houses:\")\n",
    "    for row in result:\n",
    "        print(row)\n",
    "\n",
    "    # Average price per location\n",
    "    avg_prices = conn.execute(text(\"\"\"\n",
    "        SELECT location, AVG(price) as avg_price\n",
    "        FROM luxury_housing\n",
    "        GROUP BY location\n",
    "        ORDER BY avg_price DESC\n",
    "        LIMIT 5\n",
    "    \"\"\")).fetchall()\n",
    "    print(\"\\n📍 Top 5 Locations by Avg Price:\")\n",
    "    for row in avg_prices:\n",
    "        print(row)\n",
    "\n",
    "    # Count of houses per price category\n",
    "    categories = conn.execute(text(\"\"\"\n",
    "        SELECT price_category, COUNT(*) as total\n",
    "        FROM luxury_housing\n",
    "        GROUP BY price_category\n",
    "    \"\"\")).fetchall()\n",
    "    print(\"\\n💰 House Counts by Price Category:\")\n",
    "    for row in categories:\n",
    "        print(row)\n"
   ]
  }
 ],
 "metadata": {
  "kernelspec": {
   "display_name": ".venv",
   "language": "python",
   "name": "python3"
  },
  "language_info": {
   "codemirror_mode": {
    "name": "ipython",
    "version": 3
   },
   "file_extension": ".py",
   "mimetype": "text/x-python",
   "name": "python",
   "nbconvert_exporter": "python",
   "pygments_lexer": "ipython3",
   "version": "3.13.7"
  }
 },
 "nbformat": 4,
 "nbformat_minor": 5
}
